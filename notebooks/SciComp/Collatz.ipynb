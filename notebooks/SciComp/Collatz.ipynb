{
 "metadata": {
  "name": "",
  "signature": "sha256:8524ebb50c962a544ffa1a5d10df076fcffc33fd953abf2840f7fbd10bb3d416"
 },
 "nbformat": 3,
 "nbformat_minor": 0,
 "worksheets": [
  {
   "cells": [
    {
     "cell_type": "heading",
     "level": 1,
     "metadata": {},
     "source": [
      "Collatz conjecture"
     ]
    },
    {
     "cell_type": "heading",
     "level": 2,
     "metadata": {},
     "source": [
      "Statement of the problem "
     ]
    },
    {
     "cell_type": "markdown",
     "metadata": {},
     "source": [
      "Define a function\n",
      "\\begin{equation}\n",
      "f(n) = \\begin{cases} n/2 &\\text{if } n \\equiv 0 \\pmod{2}\\\\ 3n+1 & \\text{if } n\\equiv 1 \\pmod{2} \\end{cases}\n",
      "\\end{equation}\n",
      "and run it iteratively starting with arbitrary natural number. Stop if result equals 1. Conjecture: The sequence will always halt, no matter what the starting value is. (Naively you would expect the sequence to grow infinitely, since with 50 % probability you half the current number, but with the same probability you multiply by 3, so on average you multiply with 1.5. But if $n$ is odd, $3n+ 1$ is even, whereas if $n$ is even, $n/2$ may still be even, and so the carousel starts to go around... )"
     ]
    },
    {
     "cell_type": "heading",
     "level": 2,
     "metadata": {},
     "source": [
      "Python Implementation"
     ]
    },
    {
     "cell_type": "code",
     "collapsed": false,
     "input": [
      "def collatz_sequence(x):\n",
      "    seq = [x]\n",
      "    if x < 1:\n",
      "       return []\n",
      "    while x > 1:\n",
      "       if x % 2 == 0:\n",
      "         x = x / 2\n",
      "       else:\n",
      "         x = 3 * x + 1 \n",
      "       seq.append(x)\n",
      "    return seq"
     ],
     "language": "python",
     "metadata": {},
     "outputs": [],
     "prompt_number": 9
    },
    {
     "cell_type": "code",
     "collapsed": false,
     "input": [
      "collatz_sequence(11)"
     ],
     "language": "python",
     "metadata": {},
     "outputs": [
      {
       "metadata": {},
       "output_type": "pyout",
       "prompt_number": 10,
       "text": [
        "[11, 34, 17, 52, 26, 13, 40, 20, 10, 5, 16, 8, 4, 2, 1]"
       ]
      }
     ],
     "prompt_number": 10
    },
    {
     "cell_type": "code",
     "collapsed": false,
     "input": [],
     "language": "python",
     "metadata": {},
     "outputs": []
    }
   ],
   "metadata": {}
  }
 ]
}
